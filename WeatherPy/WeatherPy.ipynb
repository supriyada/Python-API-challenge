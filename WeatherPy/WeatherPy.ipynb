{
 "cells": [
  {
   "cell_type": "markdown",
   "metadata": {},
   "source": [
    "# WeatherPy\n",
    "----\n",
    "\n",
    "#### Note\n",
    "* Instructions have been included for each segment. You do not have to follow them exactly, but they are included to help you think through the steps."
   ]
  },
  {
   "cell_type": "code",
   "execution_count": 121,
   "metadata": {
    "scrolled": true
   },
   "outputs": [],
   "source": [
    "# Dependencies and Setup\n",
    "import matplotlib.pyplot as plt\n",
    "import pandas as pd\n",
    "import numpy as np\n",
    "import requests\n",
    "import time\n",
    "from scipy.stats import linregress\n",
    "from pprint import pprint\n",
    "\n",
    "%matplotlib inline\n",
    "\n",
    "# Import API key\n",
    "from api_keys import weather_api_key\n",
    "\n",
    "# Incorporated citipy to determine city based on latitude and longitude\n",
    "from citipy import citipy\n",
    "\n",
    "# Output File (CSV)\n",
    "output_data_file = \"output_data/cities.csv\"\n",
    "\n",
    "# Range of latitudes and longitudes\n",
    "lat_range = (-90, 90)\n",
    "lng_range = (-180, 180)"
   ]
  },
  {
   "cell_type": "markdown",
   "metadata": {},
   "source": [
    "## Generate Cities List"
   ]
  },
  {
   "cell_type": "code",
   "execution_count": 4,
   "metadata": {},
   "outputs": [
    {
     "name": "stdout",
     "output_type": "stream",
     "text": [
      "603\n"
     ]
    },
    {
     "data": {
      "text/plain": [
       "['tena',\n",
       " 'vila do maio',\n",
       " 'rikitea',\n",
       " 'lazaro cardenas',\n",
       " 'jamestown',\n",
       " 'georgetown',\n",
       " 'castro',\n",
       " 'carnarvon',\n",
       " 'avarua',\n",
       " 'dingle',\n",
       " 'sola',\n",
       " 'dikson',\n",
       " 'busselton',\n",
       " 'husavik',\n",
       " 'amderma',\n",
       " 'mataura',\n",
       " 'mar del plata',\n",
       " 'general roca',\n",
       " 'barentsburg',\n",
       " 'lorengau',\n",
       " 'hajnowka',\n",
       " 'puerto ayora',\n",
       " 'saldanha',\n",
       " 'bredasdorp',\n",
       " 'ushuaia',\n",
       " 'hobart',\n",
       " 'vaitupu',\n",
       " 'faanui',\n",
       " 'necochea',\n",
       " 'yunjinghong',\n",
       " 'albany',\n",
       " 'lebu',\n",
       " 'ponta do sol',\n",
       " 'yulara',\n",
       " 'baykit',\n",
       " 'narsaq',\n",
       " 'aklavik',\n",
       " 'tiksi',\n",
       " 'broome',\n",
       " 'barrow',\n",
       " 'punta arenas',\n",
       " 'samusu',\n",
       " 'bereda',\n",
       " 'bethel',\n",
       " 'king city',\n",
       " 'mys shmidta',\n",
       " 'vilhena',\n",
       " 'milkovo',\n",
       " 'vallenar',\n",
       " 'taolanaro',\n",
       " 'northam',\n",
       " 'constitucion',\n",
       " 'xichang',\n",
       " 'riyadh',\n",
       " 'poum',\n",
       " 'atuona',\n",
       " 'kodiak',\n",
       " 'zaysan',\n",
       " 'victoria',\n",
       " 'new norfolk',\n",
       " 'tabarqah',\n",
       " 'clyde river',\n",
       " 'komsomolskiy',\n",
       " 'henties bay',\n",
       " 'atar',\n",
       " 'kaitangata',\n",
       " 'makakilo city',\n",
       " 'chongwe',\n",
       " 'yellowknife',\n",
       " 'puerto escondido',\n",
       " 'jaisalmer',\n",
       " 'adrar',\n",
       " 'wanning',\n",
       " 'torbay',\n",
       " 'ibra',\n",
       " 'verkhnyaya inta',\n",
       " 'esperance',\n",
       " 'zelenokumsk',\n",
       " 'norman wells',\n",
       " 'longyearbyen',\n",
       " 'qaanaaq',\n",
       " 'mandali',\n",
       " 'illoqqortoormiut',\n",
       " 'guiglo',\n",
       " 'uige',\n",
       " 'cape town',\n",
       " 'upernavik',\n",
       " 'oktyabrskiy',\n",
       " 'pevek',\n",
       " 'vila franca do campo',\n",
       " 'hermanus',\n",
       " 'port blair',\n",
       " 'khani',\n",
       " 'bad neustadt',\n",
       " 'olafsvik',\n",
       " 'xuddur',\n",
       " 'arraial do cabo',\n",
       " 'umzimvubu',\n",
       " 'hihifo',\n",
       " 'panaba',\n",
       " 'ambilobe',\n",
       " 'kapaa',\n",
       " 'thaba-tseka',\n",
       " 'svitavy',\n",
       " 'opuwo',\n",
       " 'hammerfest',\n",
       " 'shangrao',\n",
       " 'sao filipe',\n",
       " 'tatawin',\n",
       " 'bluff',\n",
       " 'port elizabeth',\n",
       " 'westport',\n",
       " 'pangnirtung',\n",
       " 'ribeira grande',\n",
       " 'nikolskoye',\n",
       " 'san patricio',\n",
       " 'marcona',\n",
       " 'fortuna',\n",
       " 'hualmay',\n",
       " 'isangel',\n",
       " 'tiruvottiyur',\n",
       " 'ancud',\n",
       " 'east london',\n",
       " 'hilo',\n",
       " 'karkaralinsk',\n",
       " 'rudnogorsk',\n",
       " 'port hedland',\n",
       " 'naron',\n",
       " 'uruzgan',\n",
       " 'codrington',\n",
       " 'jumla',\n",
       " 'udimskiy',\n",
       " 'mackenzie',\n",
       " 'los llanos de aridane',\n",
       " 'kahului',\n",
       " 'vaini',\n",
       " 'coffs harbour',\n",
       " 'uchaly',\n",
       " 'arroyo',\n",
       " 'teya',\n",
       " 'sitka',\n",
       " 'oussouye',\n",
       " 'saint-philippe',\n",
       " 'hobyo',\n",
       " 'hamilton',\n",
       " 'college',\n",
       " 'deqing',\n",
       " 'cockburn harbour',\n",
       " 'bambous virieux',\n",
       " 'airai',\n",
       " 'shakawe',\n",
       " 'ostrovnoy',\n",
       " 'yuncheng',\n",
       " 'umm lajj',\n",
       " 'sur',\n",
       " 'ouallam',\n",
       " 'ikwiriri',\n",
       " 'souillac',\n",
       " 'mahebourg',\n",
       " 'north bend',\n",
       " 'ocampo',\n",
       " 'port shepstone',\n",
       " 'araouane',\n",
       " 'tessalit',\n",
       " 'ixtapa',\n",
       " 'sayansk',\n",
       " 'mount gambier',\n",
       " 'long beach',\n",
       " 'darnah',\n",
       " 'oxford',\n",
       " 'belushya guba',\n",
       " 'mrirt',\n",
       " 'leningradskiy',\n",
       " 'kieta',\n",
       " 'sharjah',\n",
       " 'khatanga',\n",
       " 'cidreira',\n",
       " 'zlitan',\n",
       " 'chuy',\n",
       " 'nobeoka',\n",
       " 'seddon',\n",
       " 'cooma',\n",
       " 'dryden',\n",
       " 'rawson',\n",
       " 'kruisfontein',\n",
       " 'dekoa',\n",
       " 'nanortalik',\n",
       " 'muzhi',\n",
       " 'jatibonico',\n",
       " 'port alfred',\n",
       " 'santa rosa',\n",
       " 'upata',\n",
       " 'cherskiy',\n",
       " 'sambava',\n",
       " 'beyneu',\n",
       " 'ito',\n",
       " 'monteagudo',\n",
       " 'te anau',\n",
       " 'chico',\n",
       " 'matagami',\n",
       " 'rostovka',\n",
       " 'santiago del estero',\n",
       " 'hithadhoo',\n",
       " 'maniitsoq',\n",
       " 'pangkalanbuun',\n",
       " 'juegang',\n",
       " 'poronaysk',\n",
       " 'tasiilaq',\n",
       " 'boende',\n",
       " 'san cristobal',\n",
       " 'nizwa',\n",
       " 'piribebuy',\n",
       " 'pisco',\n",
       " 'poopo',\n",
       " 'ngukurr',\n",
       " 'vila velha',\n",
       " 'kalmar',\n",
       " 'buala',\n",
       " 'hami',\n",
       " 'hudiksvall',\n",
       " 'pacific grove',\n",
       " 'mendi',\n",
       " 'monrovia',\n",
       " 'sabang',\n",
       " 'guasdualito',\n",
       " 'tuktoyaktuk',\n",
       " 'key largo',\n",
       " 'richards bay',\n",
       " 'gat',\n",
       " 'gryfino',\n",
       " 'kodinsk',\n",
       " 'statesboro',\n",
       " 'sweetwater',\n",
       " 'hasaki',\n",
       " 'lagoa',\n",
       " 'mandal',\n",
       " 'taoudenni',\n",
       " 'nizhneyansk',\n",
       " 'kosa',\n",
       " 'butaritari',\n",
       " 'kalengwa',\n",
       " 'wenceslau braz',\n",
       " 'coahuayana',\n",
       " 'berlevag',\n",
       " 'saint anthony',\n",
       " 'wenling',\n",
       " 'mulege',\n",
       " 'rocha',\n",
       " 'lufilufi',\n",
       " 'kegayli',\n",
       " 'nome',\n",
       " 'along',\n",
       " 'fairbanks',\n",
       " 'ilulissat',\n",
       " 'guerrero negro',\n",
       " 'thompson',\n",
       " 'srednekolymsk',\n",
       " 'port macquarie',\n",
       " 'marzuq',\n",
       " 'mayo',\n",
       " 'hofn',\n",
       " 'birobidzhan',\n",
       " 'kargasok',\n",
       " 'phuket',\n",
       " 'bama',\n",
       " 'sentyabrskiy',\n",
       " 'karratha',\n",
       " 'artyk',\n",
       " 'san carlos de bariloche',\n",
       " 'saint george',\n",
       " 'coihaique',\n",
       " 'odweyne',\n",
       " 'wukari',\n",
       " 'geraldton',\n",
       " 'qandahar',\n",
       " 'baruun-urt',\n",
       " 'adolfo lopez mateos',\n",
       " 'deputatskiy',\n",
       " 'funchal',\n",
       " 'devonport',\n",
       " 'dir',\n",
       " 'longlac',\n",
       " 'severo-kurilsk',\n",
       " 'ossora',\n",
       " 'svetlogorsk',\n",
       " 'lompoc',\n",
       " 'grand river south east',\n",
       " 'naze',\n",
       " 'jacqueville',\n",
       " 'kununurra',\n",
       " 'dudinka',\n",
       " 'yanam',\n",
       " 'mehamn',\n",
       " 'provideniya',\n",
       " 'ariquemes',\n",
       " 'cabo san lucas',\n",
       " 'coquimbo',\n",
       " 'matamoros',\n",
       " 'kenai',\n",
       " 'havoysund',\n",
       " 'buin',\n",
       " 'khilchipur',\n",
       " 'turukhansk',\n",
       " 'caraballeda',\n",
       " 'ontario',\n",
       " 'petropavlovsk-kamchatskiy',\n",
       " 'vieste',\n",
       " 'alta floresta',\n",
       " 'kibala',\n",
       " 'swan hill',\n",
       " 'athabasca',\n",
       " 'urumqi',\n",
       " 'romitan',\n",
       " 'bilibino',\n",
       " 'katsuura',\n",
       " 'channel-port aux basques',\n",
       " 'popondetta',\n",
       " 'bud',\n",
       " 'kushima',\n",
       " 'ritchie',\n",
       " 'atikokan',\n",
       " 'mgandu',\n",
       " 'ankpa',\n",
       " 'emmaus',\n",
       " 'banda aceh',\n",
       " 'bilma',\n",
       " 'aripuana',\n",
       " 'mahibadhoo',\n",
       " 'rapid city',\n",
       " 'fevik',\n",
       " 'vostok',\n",
       " 'abu zabad',\n",
       " 'ola',\n",
       " 'garden city',\n",
       " 'tuatapere',\n",
       " 'tazovskiy',\n",
       " 'okha',\n",
       " 'kemalpasa',\n",
       " 'lamu',\n",
       " 'nouadhibou',\n",
       " 'mackay',\n",
       " 'aguada de pasajeros',\n",
       " 'guaiba',\n",
       " 'kavieng',\n",
       " 'novovarshavka',\n",
       " 'rio gallegos',\n",
       " 'tawnat',\n",
       " 'itoman',\n",
       " 'kudahuvadhoo',\n",
       " 'kralendijk',\n",
       " 'akyab',\n",
       " 'vao',\n",
       " 'ngunguru',\n",
       " 'iqaluit',\n",
       " 'morondava',\n",
       " 'dunedin',\n",
       " 'saint-augustin',\n",
       " 'pafos',\n",
       " 'gracac',\n",
       " 'san policarpo',\n",
       " 'rungata',\n",
       " 'margate',\n",
       " 'ourossogui',\n",
       " 'vanimo',\n",
       " 'chapais',\n",
       " 'alofi',\n",
       " 'talcahuano',\n",
       " 'gourdon',\n",
       " 'seymchan',\n",
       " 'novopokrovka',\n",
       " 'tuy hoa',\n",
       " 'bubaque',\n",
       " 'ewa beach',\n",
       " 'yenagoa',\n",
       " 'shellbrook',\n",
       " 'ambam',\n",
       " 'sao joao da barra',\n",
       " 'inta',\n",
       " 'mocambique',\n",
       " 'teguise',\n",
       " 'mizdah',\n",
       " 'chkalovskoye',\n",
       " 'rogovatoye',\n",
       " 'santa eulalia del rio',\n",
       " 'qasigiannguit',\n",
       " 'nyurba',\n",
       " 'machali',\n",
       " 'praia',\n",
       " 'sibenik',\n",
       " 'manavalakurichi',\n",
       " 'champerico',\n",
       " 'abu samrah',\n",
       " 'chernyshevskiy',\n",
       " 'monticello',\n",
       " 'jiaozuo',\n",
       " 'igarape-acu',\n",
       " 'paytug',\n",
       " 'columbus',\n",
       " 'sabha',\n",
       " 'arinos',\n",
       " 'chipinge',\n",
       " 'dakar',\n",
       " 'tres picos',\n",
       " 'mount pleasant',\n",
       " 'afgoye',\n",
       " 'barbar',\n",
       " 'terracina',\n",
       " 'lebowakgomo',\n",
       " 'batagay-alyta',\n",
       " 'sechura',\n",
       " 'uzumlu',\n",
       " 'paita',\n",
       " 'ojinaga',\n",
       " 'savannah bight',\n",
       " 'cloquet',\n",
       " 'padang',\n",
       " 'tumannyy',\n",
       " 'bengkulu',\n",
       " 'djibo',\n",
       " 'attawapiskat',\n",
       " 'ugoofaaru',\n",
       " 'arlit',\n",
       " 'yar-sale',\n",
       " 'yerbogachen',\n",
       " 'jalu',\n",
       " 'nenjiang',\n",
       " 'anadyr',\n",
       " 'dicabisagan',\n",
       " 'lexington',\n",
       " 'vardo',\n",
       " 'stornoway',\n",
       " 'yaya',\n",
       " 'camacari',\n",
       " 'hambantota',\n",
       " 'aloleng',\n",
       " 'ambon',\n",
       " 'amahai',\n",
       " 'lakhimpur',\n",
       " 'clarksburg',\n",
       " 'shache',\n",
       " 'port hawkesbury',\n",
       " 'redmond',\n",
       " 'ponta delgada',\n",
       " 'molchanovo',\n",
       " 'broken hill',\n",
       " 'choix',\n",
       " 'chapada dos guimaraes',\n",
       " 'avera',\n",
       " 'pryazha',\n",
       " 'namatanai',\n",
       " 'saskylakh',\n",
       " 'sao miguel do araguaia',\n",
       " 'novikovo',\n",
       " 'sinnamary',\n",
       " 'miri',\n",
       " 'knysna',\n",
       " 'kozhevnikovo',\n",
       " 'leshukonskoye',\n",
       " 'skibbereen',\n",
       " 'manati',\n",
       " 'roros',\n",
       " 'pravdinsk',\n",
       " 'the valley',\n",
       " 'anloga',\n",
       " 'ouesso',\n",
       " 'gorgan',\n",
       " 'nanning',\n",
       " 'obidos',\n",
       " 'yingzhong',\n",
       " 'chokurdakh',\n",
       " 'khasan',\n",
       " 'bargal',\n",
       " 'rivers',\n",
       " 'tukrah',\n",
       " 'mareeba',\n",
       " 'beasain',\n",
       " 'glushkovo',\n",
       " 'kirovo-chepetsk',\n",
       " 'pierre',\n",
       " 'hervey bay',\n",
       " 'almeria',\n",
       " 'sobradinho',\n",
       " 'alotau',\n",
       " 'mbengwi',\n",
       " 'loandjili',\n",
       " 'haines junction',\n",
       " 'barroso',\n",
       " 'vestmannaeyjar',\n",
       " 'havre-saint-pierre',\n",
       " 'prince rupert',\n",
       " 'mlowo',\n",
       " 'mbeya',\n",
       " 'svetlyy',\n",
       " 'evensk',\n",
       " 'novovasylivka',\n",
       " 'bahia blanca',\n",
       " 'san isidro',\n",
       " 'kalmunai',\n",
       " 'pitogo',\n",
       " 'omboue',\n",
       " 'tura',\n",
       " 'limbang',\n",
       " 'san rafael',\n",
       " 'tsihombe',\n",
       " 'kayseri',\n",
       " 'zhangye',\n",
       " 'burnie',\n",
       " 'mnogovershinnyy',\n",
       " 'nouakchott',\n",
       " 'goderich',\n",
       " 'marawi',\n",
       " 'sault sainte marie',\n",
       " 'karasjok',\n",
       " 'atbasar',\n",
       " 'sept-iles',\n",
       " 'onverwacht',\n",
       " 'safwah',\n",
       " 'praia da vitoria',\n",
       " 'ayan',\n",
       " 'miyako',\n",
       " 'wuwei',\n",
       " 'maragogi',\n",
       " 'grindavik',\n",
       " 'aykhal',\n",
       " 'samarai',\n",
       " 'farafangana',\n",
       " 'wattegama',\n",
       " 'mahadday weyne',\n",
       " 'onguday',\n",
       " 'aubergenville',\n",
       " 'coronado',\n",
       " 'anito',\n",
       " 'koutsouras',\n",
       " 'vieux-habitants',\n",
       " 'kloulklubed',\n",
       " 'karlshamn',\n",
       " 'kumo',\n",
       " 'ahvaz',\n",
       " 'labutta',\n",
       " 'kovdor',\n",
       " 'portland',\n",
       " 'talnakh',\n",
       " 'saint-pierre',\n",
       " 'tilichiki',\n",
       " 'jiayuguan',\n",
       " 'wuda',\n",
       " 'long xuyen',\n",
       " 'porto santo',\n",
       " 'phan rang',\n",
       " 'stykkisholmur',\n",
       " 'domoni',\n",
       " 'karabash',\n",
       " 'takoradi',\n",
       " 'acajutla',\n",
       " 'salym',\n",
       " 'markala',\n",
       " 'grand gaube',\n",
       " 'lata',\n",
       " 'mahina',\n",
       " 'aquiraz',\n",
       " 'port augusta',\n",
       " 'nokha',\n",
       " 'nantucket',\n",
       " 'khromtau',\n",
       " 'morant bay',\n",
       " 'san quintin',\n",
       " 'santarem',\n",
       " 'kuytun',\n",
       " 'malanje',\n",
       " 'seoul',\n",
       " 'gouyave',\n",
       " 'ketchikan',\n",
       " 'togur',\n",
       " 'lobito',\n",
       " 'shimoda',\n",
       " 'isla vista',\n",
       " 'wewak',\n",
       " 'salalah',\n",
       " 'half moon bay',\n",
       " 'diebougou',\n",
       " 'rawannawi',\n",
       " 'aksu',\n",
       " 'bressanone',\n",
       " 'stamsund',\n",
       " 'asau',\n",
       " 'guajara-mirim',\n",
       " 'karaul',\n",
       " 'lavrentiya',\n",
       " 'isiro',\n",
       " 'tiarei',\n",
       " 'kutum',\n",
       " 'myitkyina',\n",
       " 'kemri',\n",
       " 'minab',\n",
       " 'bathsheba',\n",
       " 'sorvag',\n",
       " 'soyo',\n",
       " 'vestmanna',\n",
       " 'giyon',\n",
       " 'dayong',\n",
       " 'sokolo',\n",
       " 'louisbourg',\n",
       " 'minot']"
      ]
     },
     "execution_count": 4,
     "metadata": {},
     "output_type": "execute_result"
    }
   ],
   "source": [
    "# List for holding lat_lngs and cities\n",
    "lat_lngs = []\n",
    "cities = []\n",
    "\n",
    "# Create a set of random lat and lng combinations\n",
    "lats = np.random.uniform(lat_range[0], lat_range[1], size=1500)\n",
    "lngs = np.random.uniform(lng_range[0], lng_range[1], size=1500)\n",
    "lat_lngs = zip(lats, lngs)\n",
    "\n",
    "# Identify nearest city for each lat, lng combination\n",
    "for lat_lng in lat_lngs:\n",
    "    city = citipy.nearest_city(lat_lng[0], lat_lng[1]).city_name\n",
    "    \n",
    "    # If the city is unique, then add it to a our cities list\n",
    "    if city not in cities:\n",
    "        cities.append(city)\n",
    "\n",
    "# Print the city count to confirm sufficient count\n",
    "print(len(cities))\n",
    "cities"
   ]
  },
  {
   "cell_type": "code",
   "execution_count": 9,
   "metadata": {},
   "outputs": [
    {
     "name": "stdout",
     "output_type": "stream",
     "text": [
      "603\n"
     ]
    }
   ],
   "source": [
    "print(len(cities))"
   ]
  },
  {
   "cell_type": "markdown",
   "metadata": {},
   "source": [
    "### Perform API Calls\n",
    "* Perform a weather check on each city using a series of successive API calls.\n",
    "* Include a print log of each city as it'sbeing processed (with the city number and city name).\n"
   ]
  },
  {
   "cell_type": "code",
   "execution_count": 100,
   "metadata": {},
   "outputs": [
    {
     "name": "stdout",
     "output_type": "stream",
     "text": [
      "Number of cities errored out: 52\n",
      "Number of cities : 551\n",
      "Number of country : 551\n",
      "Number of cities cloudiness out: 551\n",
      "Number of cities date out: 551\n",
      "Number of cities humidity out: 551\n",
      "Number of cities latitude out: 551\n",
      "Number of cities longitude out: 551\n",
      "Number of cities max_temp out: 551\n",
      "Number of cities wind_Speed out: 551\n"
     ]
    }
   ],
   "source": [
    "url = \"http://api.openweathermap.org/data/2.5/weather?\"\n",
    "\n",
    "city_name = []\n",
    "cloudiness = []\n",
    "country = []\n",
    "date = []\n",
    "humidity = []\n",
    "latitude = []\n",
    "longitude = []\n",
    "max_temp = []\n",
    "wind_Speed = []\n",
    "error_city = []\n",
    "\n",
    "for city in cities:\n",
    "    query_url = url + \"appid=\" + weather_api_key + \"&q=\" + city\n",
    "    response = requests.get(query_url).json()\n",
    "    time.sleep(1)\n",
    "    \n",
    "    try:\n",
    "        city_name.append(city)\n",
    "        cloudiness.append(response['clouds']['all'])\n",
    "        country.append(response['sys']['country'])\n",
    "        date.append(response['dt'])\n",
    "        humidity.append(response['main']['humidity'])\n",
    "        latitude.append(response['coord']['lat'])\n",
    "        longitude.append(response['coord']['lon'])\n",
    "        max_temp.append(response['main']['temp_max'])\n",
    "        wind_Speed.append(response['wind']['speed'])\n",
    "            \n",
    "    except:\n",
    "        error_city.append(city)\n",
    "        city_name.pop()\n",
    "        \n",
    "print(f'Number of cities errored out: {len(error_city)}')\n",
    "print(f'Number of cities : {len(city_name)}')\n",
    "print(f'Number of country : {len(country)}')\n",
    "print(f'Number of cities cloudiness out: {len(cloudiness)}')\n",
    "print(f'Number of cities date out: {len(date)}')\n",
    "print(f'Number of cities humidity out: {len(humidity)}')\n",
    "print(f'Number of cities latitude out: {len(latitude)}')\n",
    "print(f'Number of cities longitude out: {len(longitude)}')   \n",
    "print(f'Number of cities max_temp out: {len(max_temp)}')\n",
    "print(f'Number of cities wind_Speed out: {len(wind_Speed)}')\n"
   ]
  },
  {
   "cell_type": "code",
   "execution_count": 114,
   "metadata": {},
   "outputs": [
    {
     "name": "stdout",
     "output_type": "stream",
     "text": [
      "10.9995\n"
     ]
    }
   ],
   "source": [
    "url = \"http://api.openweathermap.org/data/2.5/weather?\"\n",
    "city = \"dingle\"\n",
    "\n",
    "# Build query URL\n",
    "query_url = url + \"appid=\" + weather_api_key + \"&q=\" + city\n",
    "response = requests.get(query_url).json()\n",
    "pprint(response['coord']['lat'])\n",
    "\n",
    "#print(query_url)"
   ]
  },
  {
   "cell_type": "markdown",
   "metadata": {},
   "source": [
    "### Convert Raw Data to DataFrame\n",
    "* Export the city data into a .csv.\n",
    "* Display the DataFrame"
   ]
  },
  {
   "cell_type": "code",
   "execution_count": 105,
   "metadata": {},
   "outputs": [
    {
     "data": {
      "text/html": [
       "<div>\n",
       "<style scoped>\n",
       "    .dataframe tbody tr th:only-of-type {\n",
       "        vertical-align: middle;\n",
       "    }\n",
       "\n",
       "    .dataframe tbody tr th {\n",
       "        vertical-align: top;\n",
       "    }\n",
       "\n",
       "    .dataframe thead th {\n",
       "        text-align: right;\n",
       "    }\n",
       "</style>\n",
       "<table border=\"1\" class=\"dataframe\">\n",
       "  <thead>\n",
       "    <tr style=\"text-align: right;\">\n",
       "      <th></th>\n",
       "      <th>City</th>\n",
       "      <th>Cloudiness</th>\n",
       "      <th>Country</th>\n",
       "      <th>Date</th>\n",
       "      <th>Humidity</th>\n",
       "      <th>Latitude</th>\n",
       "      <th>Longitude</th>\n",
       "      <th>Max Temperature</th>\n",
       "      <th>Wind Speed</th>\n",
       "    </tr>\n",
       "    <tr>\n",
       "      <th>City ID</th>\n",
       "      <th></th>\n",
       "      <th></th>\n",
       "      <th></th>\n",
       "      <th></th>\n",
       "      <th></th>\n",
       "      <th></th>\n",
       "      <th></th>\n",
       "      <th></th>\n",
       "      <th></th>\n",
       "    </tr>\n",
       "  </thead>\n",
       "  <tbody>\n",
       "    <tr>\n",
       "      <th>0</th>\n",
       "      <td>tena</td>\n",
       "      <td>98</td>\n",
       "      <td>EC</td>\n",
       "      <td>1615180248</td>\n",
       "      <td>84</td>\n",
       "      <td>-0.9833</td>\n",
       "      <td>-77.8167</td>\n",
       "      <td>293.65</td>\n",
       "      <td>0.85</td>\n",
       "    </tr>\n",
       "    <tr>\n",
       "      <th>1</th>\n",
       "      <td>vila do maio</td>\n",
       "      <td>75</td>\n",
       "      <td>CV</td>\n",
       "      <td>1615180502</td>\n",
       "      <td>72</td>\n",
       "      <td>15.1333</td>\n",
       "      <td>-23.2167</td>\n",
       "      <td>292.15</td>\n",
       "      <td>10.80</td>\n",
       "    </tr>\n",
       "    <tr>\n",
       "      <th>2</th>\n",
       "      <td>rikitea</td>\n",
       "      <td>100</td>\n",
       "      <td>PF</td>\n",
       "      <td>1615180502</td>\n",
       "      <td>83</td>\n",
       "      <td>-23.1203</td>\n",
       "      <td>-134.9692</td>\n",
       "      <td>299.78</td>\n",
       "      <td>8.33</td>\n",
       "    </tr>\n",
       "    <tr>\n",
       "      <th>3</th>\n",
       "      <td>lazaro cardenas</td>\n",
       "      <td>0</td>\n",
       "      <td>MX</td>\n",
       "      <td>1615180502</td>\n",
       "      <td>87</td>\n",
       "      <td>17.9583</td>\n",
       "      <td>-102.2000</td>\n",
       "      <td>296.21</td>\n",
       "      <td>0.72</td>\n",
       "    </tr>\n",
       "    <tr>\n",
       "      <th>4</th>\n",
       "      <td>jamestown</td>\n",
       "      <td>1</td>\n",
       "      <td>US</td>\n",
       "      <td>1615180502</td>\n",
       "      <td>96</td>\n",
       "      <td>42.0970</td>\n",
       "      <td>-79.2353</td>\n",
       "      <td>263.71</td>\n",
       "      <td>0.80</td>\n",
       "    </tr>\n",
       "  </tbody>\n",
       "</table>\n",
       "</div>"
      ],
      "text/plain": [
       "                    City  Cloudiness Country        Date  Humidity  Latitude  \\\n",
       "City ID                                                                        \n",
       "0                   tena          98      EC  1615180248        84   -0.9833   \n",
       "1           vila do maio          75      CV  1615180502        72   15.1333   \n",
       "2                rikitea         100      PF  1615180502        83  -23.1203   \n",
       "3        lazaro cardenas           0      MX  1615180502        87   17.9583   \n",
       "4              jamestown           1      US  1615180502        96   42.0970   \n",
       "\n",
       "         Longitude  Max Temperature  Wind Speed  \n",
       "City ID                                          \n",
       "0         -77.8167           293.65        0.85  \n",
       "1         -23.2167           292.15       10.80  \n",
       "2        -134.9692           299.78        8.33  \n",
       "3        -102.2000           296.21        0.72  \n",
       "4         -79.2353           263.71        0.80  "
      ]
     },
     "execution_count": 105,
     "metadata": {},
     "output_type": "execute_result"
    }
   ],
   "source": [
    "weather_dict = {\"City\":city_name,\"Cloudiness\":cloudiness,\"Country\":country,\"Date\":date,\n",
    "              \"Humidity\":humidity,\"Latitude\":latitude,\"Longitude\":longitude,\n",
    "              \"Max Temperature\":max_temp,\"Wind Speed\":wind_Speed}\n",
    "\n",
    "weather_data = pd.DataFrame(weather_dict)\n",
    "weather_data.index.rename('City ID', inplace=True)\n",
    "weather_data.to_csv(\"Output Data/cities.csv\")\n",
    "weather_data.head()"
   ]
  },
  {
   "cell_type": "code",
   "execution_count": 125,
   "metadata": {},
   "outputs": [
    {
     "name": "stdout",
     "output_type": "stream",
     "text": [
      "551\n"
     ]
    }
   ],
   "source": [
    "n = weather_data['City'].nunique()\n",
    "print(n)"
   ]
  },
  {
   "cell_type": "markdown",
   "metadata": {},
   "source": [
    "## Inspect the data and remove the cities where the humidity > 100%.\n",
    "----\n",
    "Skip this step if there are no cities that have humidity > 100%. "
   ]
  },
  {
   "cell_type": "code",
   "execution_count": 107,
   "metadata": {},
   "outputs": [
    {
     "data": {
      "text/plain": [
       "City               0\n",
       "Cloudiness         0\n",
       "Country            0\n",
       "Date               0\n",
       "Humidity           0\n",
       "Latitude           0\n",
       "Longitude          0\n",
       "Max Temperature    0\n",
       "Wind Speed         0\n",
       "dtype: int64"
      ]
     },
     "execution_count": 107,
     "metadata": {},
     "output_type": "execute_result"
    }
   ],
   "source": [
    "weather_data_humid = weather_data.loc[weather_data['Humidity'] > 100,:]\n",
    "weather_data_humid.count()"
   ]
  },
  {
   "cell_type": "markdown",
   "metadata": {},
   "source": [
    "`weather_data` dataframe does not have any city with humidity over 100%. Hence skipping this part."
   ]
  },
  {
   "cell_type": "code",
   "execution_count": null,
   "metadata": {},
   "outputs": [],
   "source": [
    "#  Get the indices of cities that have humidity over 100%.\n"
   ]
  },
  {
   "cell_type": "code",
   "execution_count": null,
   "metadata": {},
   "outputs": [],
   "source": [
    "# Make a new DataFrame equal to the city data to drop all humidity outliers by index.\n",
    "# Passing \"inplace=False\" will make a copy of the city_data DataFrame, which we call \"clean_city_data\".\n"
   ]
  },
  {
   "cell_type": "code",
   "execution_count": null,
   "metadata": {},
   "outputs": [],
   "source": [
    "\n"
   ]
  },
  {
   "cell_type": "markdown",
   "metadata": {},
   "source": [
    "## Plotting the Data\n",
    "* Use proper labeling of the plots using plot titles (including date of analysis) and axes labels.\n",
    "* Save the plotted figures as .pngs."
   ]
  },
  {
   "cell_type": "markdown",
   "metadata": {},
   "source": [
    "## Latitude vs. Temperature Plot"
   ]
  },
  {
   "cell_type": "code",
   "execution_count": 128,
   "metadata": {},
   "outputs": [
    {
     "data": {
      "image/png": "[encoded data removed]",
      "text/plain": [
       "<Figure size 432x288 with 1 Axes>"
      ]
     },
     "metadata": {
      "needs_background": "light"
     },
     "output_type": "display_data"
    }
   ],
   "source": [
    "weather_data.plot(kind = 'scatter',x = 'Latitude', y= 'Max Temperature',title = 'Temperature (F) Vs Latitude',grid = True)\n",
    "\n",
    "plt.savefig(\"Output Data/lat_vs_temp.png\")\n",
    "plt.show()"
   ]
  },
  {
   "cell_type": "markdown",
   "metadata": {},
   "source": [
    "## Latitude vs. Humidity Plot"
   ]
  },
  {
   "cell_type": "code",
   "execution_count": 131,
   "metadata": {},
   "outputs": [
    {
     "data": {
      "image/png": "[encoded data removed]",
      "text/plain": [
       "<Figure size 432x288 with 1 Axes>"
      ]
     },
     "metadata": {
      "needs_background": "light"
     },
     "output_type": "display_data"
    }
   ],
   "source": [
    "weather_data.plot(kind = 'scatter',x = 'Latitude', y= 'Humidity',title = 'Humidity (%) Vs Latitude',grid = True)\n",
    "\n",
    "plt.savefig(\"Output Data/lat_vs_humidity.png\")\n",
    "plt.show()"
   ]
  },
  {
   "cell_type": "markdown",
   "metadata": {},
   "source": [
    "## Latitude vs. Cloudiness Plot"
   ]
  },
  {
   "cell_type": "code",
   "execution_count": 132,
   "metadata": {},
   "outputs": [
    {
     "data": {
      "image/png": "[encoded data removed]",
      "text/plain": [
       "<Figure size 432x288 with 1 Axes>"
      ]
     },
     "metadata": {
      "needs_background": "light"
     },
     "output_type": "display_data"
    }
   ],
   "source": [
    "weather_data.plot(kind = 'scatter',x = 'Latitude', y= 'Cloudiness',title = 'Cloudiness (%) Vs Latitude',grid = True)\n",
    "\n",
    "plt.savefig(\"Output Data/lat_vs_cloudiness.png\")\n",
    "plt.show()"
   ]
  },
  {
   "cell_type": "markdown",
   "metadata": {},
   "source": [
    "## Latitude vs. Wind Speed Plot"
   ]
  },
  {
   "cell_type": "code",
   "execution_count": 133,
   "metadata": {},
   "outputs": [
    {
     "data": {
      "image/png": "[encoded data removed]",
      "text/plain": [
       "<Figure size 432x288 with 1 Axes>"
      ]
     },
     "metadata": {
      "needs_background": "light"
     },
     "output_type": "display_data"
    }
   ],
   "source": [
    "weather_data.plot(kind = 'scatter',x = 'Latitude', y= 'Wind Speed',title = 'Wind Speed (mph) Vs Latitude',grid = True)\n",
    "\n",
    "plt.savefig(\"Output Data/lat_vs_wind_speed.png\")\n",
    "plt.show()"
   ]
  },
  {
   "cell_type": "markdown",
   "metadata": {},
   "source": [
    "## Linear Regression"
   ]
  },
  {
   "cell_type": "code",
   "execution_count": null,
   "metadata": {},
   "outputs": [],
   "source": []
  },
  {
   "cell_type": "markdown",
   "metadata": {},
   "source": [
    "####  Northern Hemisphere - Max Temp vs. Latitude Linear Regression"
   ]
  },
  {
   "cell_type": "code",
   "execution_count": null,
   "metadata": {},
   "outputs": [],
   "source": []
  },
  {
   "cell_type": "markdown",
   "metadata": {},
   "source": [
    "####  Southern Hemisphere - Max Temp vs. Latitude Linear Regression"
   ]
  },
  {
   "cell_type": "code",
   "execution_count": null,
   "metadata": {},
   "outputs": [],
   "source": []
  },
  {
   "cell_type": "markdown",
   "metadata": {},
   "source": [
    "####  Northern Hemisphere - Humidity (%) vs. Latitude Linear Regression"
   ]
  },
  {
   "cell_type": "code",
   "execution_count": null,
   "metadata": {},
   "outputs": [],
   "source": []
  },
  {
   "cell_type": "markdown",
   "metadata": {},
   "source": [
    "####  Southern Hemisphere - Humidity (%) vs. Latitude Linear Regression"
   ]
  },
  {
   "cell_type": "code",
   "execution_count": null,
   "metadata": {},
   "outputs": [],
   "source": []
  },
  {
   "cell_type": "markdown",
   "metadata": {},
   "source": [
    "####  Northern Hemisphere - Cloudiness (%) vs. Latitude Linear Regression"
   ]
  },
  {
   "cell_type": "code",
   "execution_count": null,
   "metadata": {},
   "outputs": [],
   "source": []
  },
  {
   "cell_type": "markdown",
   "metadata": {},
   "source": [
    "####  Southern Hemisphere - Cloudiness (%) vs. Latitude Linear Regression"
   ]
  },
  {
   "cell_type": "code",
   "execution_count": null,
   "metadata": {},
   "outputs": [],
   "source": []
  },
  {
   "cell_type": "markdown",
   "metadata": {},
   "source": [
    "####  Northern Hemisphere - Wind Speed (mph) vs. Latitude Linear Regression"
   ]
  },
  {
   "cell_type": "code",
   "execution_count": null,
   "metadata": {},
   "outputs": [],
   "source": []
  },
  {
   "cell_type": "markdown",
   "metadata": {},
   "source": [
    "####  Southern Hemisphere - Wind Speed (mph) vs. Latitude Linear Regression"
   ]
  },
  {
   "cell_type": "code",
   "execution_count": null,
   "metadata": {},
   "outputs": [],
   "source": []
  },
  {
   "cell_type": "code",
   "execution_count": null,
   "metadata": {},
   "outputs": [],
   "source": []
  }
 ],
 "metadata": {
  "anaconda-cloud": {},
  "kernel_info": {
   "name": "python3"
  },
  "kernelspec": {
   "display_name": "Python 3",
   "language": "python",
   "name": "python3"
  },
  "language_info": {
   "codemirror_mode": {
    "name": "ipython",
    "version": 3
   },
   "file_extension": ".py",
   "mimetype": "text/x-python",
   "name": "python",
   "nbconvert_exporter": "python",
   "pygments_lexer": "ipython3",
   "version": "3.8.5"
  },
  "latex_envs": {
   "LaTeX_envs_menu_present": true,
   "autoclose": false,
   "autocomplete": true,
   "bibliofile": "biblio.bib",
   "cite_by": "apalike",
   "current_citInitial": 1,
   "eqLabelWithNumbers": true,
   "eqNumInitial": 1,
   "hotkeys": {
    "equation": "Ctrl-E",
    "itemize": "Ctrl-I"
   },
   "labels_anchors": false,
   "latex_user_defs": false,
   "report_style_numbering": false,
   "user_envs_cfg": false
  },
  "nteract": {
   "version": "0.12.3"
  }
 },
 "nbformat": 4,
 "nbformat_minor": 2
}
